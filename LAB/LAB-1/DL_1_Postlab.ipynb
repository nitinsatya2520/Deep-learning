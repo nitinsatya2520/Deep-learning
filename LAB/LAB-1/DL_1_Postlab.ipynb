{
  "nbformat": 4,
  "nbformat_minor": 0,
  "metadata": {
    "colab": {
      "provenance": []
    },
    "kernelspec": {
      "name": "python3",
      "display_name": "Python 3"
    },
    "language_info": {
      "name": "python"
    }
  },
  "cells": [
    {
      "cell_type": "markdown",
      "source": [
        "# Solve the given polynomial equation using PyTorch X2 -4X+4=0"
      ],
      "metadata": {
        "id": "o0xBt7PkoqP8"
      }
    },
    {
      "cell_type": "code",
      "execution_count": 1,
      "metadata": {
        "colab": {
          "base_uri": "https://localhost:8080/"
        },
        "id": "tp99RxD5nw-u",
        "outputId": "830bf201-c9fa-49d2-ce5f-9c6092e0cbbd"
      },
      "outputs": [
        {
          "output_type": "stream",
          "name": "stdout",
          "text": [
            "Root 1: 2.0\n",
            "Root 2: 2.0\n"
          ]
        }
      ],
      "source": [
        "import torch\n",
        "# Coefficients\n",
        "a = torch.tensor(1.0)\n",
        "b = torch.tensor(-4.0)\n",
        "c = torch.tensor(4.0)\n",
        "# Discriminant\n",
        "discriminant = b**2 - 4*a*c\n",
        "# Roots\n",
        "root1 = (-b + torch.sqrt(discriminant)) / (2 * a)\n",
        "root2 = (-b - torch.sqrt(discriminant)) / (2 * a)\n",
        "# Display the roots\n",
        "print(\"Root 1:\", root1.item())\n",
        "print(\"Root 2:\", root2.item())\n"
      ]
    },
    {
      "cell_type": "markdown",
      "source": [],
      "metadata": {
        "id": "2SNg5rIDn9hz"
      }
    }
  ]
}