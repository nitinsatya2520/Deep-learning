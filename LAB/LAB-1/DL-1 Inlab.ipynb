{
 "cells": [
  {
   "cell_type": "markdown",
   "id": "848fd443",
   "metadata": {},
   "source": [
    "# Implement the basic logic gates AND & OR using McCulloch’s Pit model"
   ]
  },
  {
   "cell_type": "code",
   "execution_count": 3,
   "id": "c9d27b01",
   "metadata": {},
   "outputs": [
    {
     "name": "stdout",
     "output_type": "stream",
     "text": [
      "OUTPUT\n",
      "0\n",
      "0\n",
      "0\n",
      "1\n"
     ]
    }
   ],
   "source": [
    "#AND GATE\n",
    "def mcp_and(x1, x2):\n",
    "    \n",
    "    w1, w2 = 1, 1\n",
    "    T = 2\n",
    "    weighted_sum = w1 * x1 + w2 * x2 \n",
    "    return 1 if weighted_sum >= T else 0\n",
    "\n",
    "print(\"OUTPUT\")\n",
    "print(mcp_and(0, 0))  \n",
    "print(mcp_and(0, 1)) \n",
    "print(mcp_and(1, 0)) \n",
    "print(mcp_and(1, 1))  "
   ]
  },
  {
   "cell_type": "code",
   "execution_count": 4,
   "id": "d69f9cae",
   "metadata": {},
   "outputs": [
    {
     "name": "stdout",
     "output_type": "stream",
     "text": [
      "OUTPUT\n",
      "0\n",
      "1\n",
      "1\n",
      "1\n"
     ]
    }
   ],
   "source": [
    "#OR GATE\n",
    "def mcp_or(x1, x2):\n",
    "   \n",
    "    w1, w2 = 1, 1\n",
    "    T = 1 \n",
    "    weighted_sum = w1 * x1 + w2 * x2  \n",
    "    return 1 if weighted_sum >= T else 0\n",
    "\n",
    "print(\"OUTPUT\")\n",
    "print(mcp_or(0, 0))  \n",
    "print(mcp_or(0, 1))  \n",
    "print(mcp_or(1, 0)) \n",
    "print(mcp_or(1, 1))  "
   ]
  }
 ],
 "metadata": {
  "kernelspec": {
   "display_name": "Python 3 (ipykernel)",
   "language": "python",
   "name": "python3"
  },
  "language_info": {
   "codemirror_mode": {
    "name": "ipython",
    "version": 3
   },
   "file_extension": ".py",
   "mimetype": "text/x-python",
   "name": "python",
   "nbconvert_exporter": "python",
   "pygments_lexer": "ipython3",
   "version": "3.11.4"
  }
 },
 "nbformat": 4,
 "nbformat_minor": 5
}
