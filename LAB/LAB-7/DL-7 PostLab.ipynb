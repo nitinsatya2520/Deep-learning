{
  "nbformat": 4,
  "nbformat_minor": 0,
  "metadata": {
    "colab": {
      "provenance": []
    },
    "kernelspec": {
      "name": "python3",
      "display_name": "Python 3"
    },
    "language_info": {
      "name": "python"
    }
  },
  "cells": [
    {
      "cell_type": "code",
      "execution_count": 1,
      "metadata": {
        "colab": {
          "base_uri": "https://localhost:8080/"
        },
        "id": "sBq_cR2x4VQ3",
        "outputId": "f9adbc99-989e-46a5-8161-cf80216f5b2f"
      },
      "outputs": [
        {
          "output_type": "stream",
          "name": "stdout",
          "text": [
            "Log-Likelihood Loss: 0.20273661557656092\n",
            "Mean Squared Error: 0.010000000000000018\n",
            "Absolute Mean Error: 0.10000000000000009\n"
          ]
        }
      ],
      "source": [
        "import numpy as np\n",
        "\n",
        "# Log-Likelihood Loss (Binary Cross-Entropy Loss)\n",
        "def log_likelihood_loss(y_true, y_pred):\n",
        "    epsilon = 1e-15  # Small value to prevent log(0)\n",
        "    y_pred = np.clip(y_pred, epsilon, 1 - epsilon)\n",
        "    return -np.mean(y_true * np.log(y_pred) + (1 - y_true) * np.log(1 - y_pred))\n",
        "\n",
        "# Mean Squared Error (MSE)\n",
        "def mean_squared_error(y_true, y_pred):\n",
        "    return np.mean((y_true - y_pred) ** 2)\n",
        "\n",
        "# Absolute Mean Error (AME)\n",
        "def absolute_mean_error(y_true, y_pred):\n",
        "    return np.mean(np.abs(y_true - y_pred))\n",
        "\n",
        "# Example usage\n",
        "y_true_classification = np.array([1, 0, 1, 1, 0])\n",
        "y_pred_classification = np.array([0.9, 0.2, 0.8, 0.7, 0.1])\n",
        "\n",
        "y_true_regression = np.array([1.5, 2.0, 3.5, 4.0])\n",
        "y_pred_regression = np.array([1.6, 2.1, 3.4, 3.9])\n",
        "\n",
        "# Calculate and print the losses\n",
        "log_likelihood = log_likelihood_loss(y_true_classification, y_pred_classification)\n",
        "print(f\"Log-Likelihood Loss: {log_likelihood}\")\n",
        "\n",
        "mse = mean_squared_error(y_true_regression, y_pred_regression)\n",
        "print(f\"Mean Squared Error: {mse}\")\n",
        "\n",
        "ame = absolute_mean_error(y_true_regression, y_pred_regression)\n",
        "print(f\"Absolute Mean Error: {ame}\")\n"
      ]
    }
  ]
}